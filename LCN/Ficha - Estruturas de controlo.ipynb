{
 "cells": [
  {
   "cell_type": "markdown",
   "metadata": {},
   "source": [
    "# Estruturas de Controlo em Python\n",
    "\n",
    "Um programa geralmente não segue uma execução linear de todas as instruções.\n",
    "\n",
    "Há instruções que só que querem executar em determinadas condições. Para tal, usa-se uma estrutura de controlo:\n",
    "```\n",
    "if..else...\n",
    "```\n",
    "\n",
    "Noutros casos, pretende-se repetir múltiplas vezes o mesmo conjunto de instruções. Para tal, usam-se as estruturas de controlo:\n",
    "```\n",
    "while\n",
    "for\n",
    "```"
   ]
  },
  {
   "cell_type": "markdown",
   "metadata": {},
   "source": [
    "# Dados\n",
    "\n",
    "Para estes exercícios com estruturas de controlo, vamos usar caixas para entrada de dados (usando a função `input()` e as estruturas de dados seguintes."
   ]
  },
  {
   "cell_type": "code",
   "execution_count": null,
   "metadata": {},
   "outputs": [],
   "source": [
    "import numpy as np\n",
    "populacao = { \"Amares\": 19853, \"Barcelos\": 124555, \"Braga\": 176154, \"Cabeceiras de Basto\": 17635, \"Celorico de Basto\": 19767, \"Esposende\": 35552, \"Fafe\": 53600, \"Guimarães\": 162636, \"Póvoa de Lanhoso\": 24230, \"Terras de Bouro\": 7506, \"Vieira do Minho\": 14077, \"Vila Nova de Famalicão\": 134969, \"Vila Verde\": 49171, \"Vizela\": 24477 }\n",
    "vel = np.array([ 50, 50, 70, 90, 120 ])"
   ]
  },
  {
   "cell_type": "markdown",
   "metadata": {},
   "source": [
    "## Entrada de dados\n",
    "\n",
    "1. (**Resolvido**) Leia o nome do utilizador e apresente o nome em maiúsculas."
   ]
  },
  {
   "cell_type": "code",
   "execution_count": null,
   "metadata": {},
   "outputs": [],
   "source": [
    "nome=input()"
   ]
  },
  {
   "cell_type": "code",
   "execution_count": null,
   "metadata": {},
   "outputs": [],
   "source": [
    "nome.upper()"
   ]
  },
  {
   "cell_type": "markdown",
   "metadata": {},
   "source": [
    "2. Leia um ano de nascimento e diga quantos anos o utilizador tem.\n",
    "3. Leia uma palavra e mostre-a de trás para frente. Use as sugestões do [stackoverflow](https://stackoverflow.com/questions/931092/reverse-a-string-in-python) para calcular a string ao contrário."
   ]
  },
  {
   "cell_type": "code",
   "execution_count": null,
   "metadata": {},
   "outputs": [],
   "source": [
    "ano_nasc=int(input())\n",
    "idade = 2020 - ano_nasc\n",
    "print(idade)\n"
   ]
  },
  {
   "cell_type": "markdown",
   "metadata": {},
   "source": [
    "## Estruturas condicionais\n",
    "\n",
    "1. Leia um número de diga se é um número interiro.\n",
    "1. Leia um número de diga se é um número real.\n",
    "1. Leia um número de diga se é positivo, negativo ou zero.\n",
    "1. Leia um número e diga se é par ou ímpar, mas se e só se o número for inteiro. Se não for um inteiro, diga: \"Número inválido: tem que ser um número inteiro\"\n",
    "1. Leia a data de nascimento e diga a idade que o utilizador tem. Use a função `date.today()` para saber a data de hoje (tem que preceder com `from datetime import date`).\n",
    "1. Leia o nome próprio do utilizador. Responda 'válido', se o nome não contém nenhum espaço. Resposta 'inválido', se o nome contém um espaço como em `Ana Rita`, por exemplo."
   ]
  },
  {
   "cell_type": "code",
   "execution_count": 1,
   "metadata": {
    "scrolled": true
   },
   "outputs": [
    {
     "name": "stdout",
     "output_type": "stream",
     "text": [
      "5\n",
      "nao e um numero inteiro\n"
     ]
    }
   ],
   "source": [
    "#Exercicio 1\n",
    "a = input()\n",
    "if (int(a) == a):\n",
    "    print(\"é um numero inteiro\")\n",
    "else:\n",
    "    print(\"nao e um numero inteiro\")"
   ]
  },
  {
   "cell_type": "code",
   "execution_count": 3,
   "metadata": {},
   "outputs": [
    {
     "name": "stdout",
     "output_type": "stream",
     "text": [
      "Introduz um numero 55.5\n",
      "55.5  é um numero real\n"
     ]
    }
   ],
   "source": [
    "#Exercicio 1\n",
    "b = input(\"Introduz um numero \")\n",
    "try:\n",
    "    valor = int(b)\n",
    "    print(valor,\" é um numero inteiro\")\n",
    "except ValueError:\n",
    "    try:\n",
    "        valor = float(b)\n",
    "        print(valor,\" é um numero real\")\n",
    "    except ValueError:\n",
    "        print(\"é uma string\")\n"
   ]
  },
  {
   "cell_type": "markdown",
   "metadata": {},
   "source": [
    "## Estruturas cíclicas: `for`\n",
    "\n",
    "1. Use um ciclo `for` para mostrar o nome dos concelhos do dicionário `populacao`.\n",
    "1. Use o mesmo ciclo `for` e mostre apenas os concelhos do dicionário `populacao` que têm mais de 50 000 habitantes\n",
    "1. Use um ciclo `for` para calcular a média das velocidades do vetor `vel`.\n",
    "1. Use um ciclo `for` para calcular a velocidade máxima que consta do vetor `vel`."
   ]
  },
  {
   "cell_type": "code",
   "execution_count": null,
   "metadata": {},
   "outputs": [],
   "source": [
    "#Exercicio 1\n",
    "for x in populacao:\n",
    "    print(x)"
   ]
  },
  {
   "cell_type": "code",
   "execution_count": null,
   "metadata": {},
   "outputs": [],
   "source": [
    "#Exercicio 2\n",
    "for x in populacao.keys():\n",
    "    val = populacao[x]\n",
    "    if(val>50000):\n",
    "        print(\"Nome:\",x,\" População:\",val)\n",
    "    else:\n",
    "        continue\n",
    "        "
   ]
  },
  {
   "cell_type": "code",
   "execution_count": null,
   "metadata": {},
   "outputs": [],
   "source": [
    "#Exercicio 3\n",
    "soma=0\n",
    "for x in vel:\n",
    "  soma = x + soma\n",
    "print(len(vel))\n",
    "print(soma)\n",
    "media = soma / len(vel)\n",
    "print(media)"
   ]
  },
  {
   "cell_type": "code",
   "execution_count": null,
   "metadata": {},
   "outputs": [],
   "source": [
    "#Exercicio 4\n",
    "max = vel[0]\n",
    "for valor in vel:\n",
    "    if valor > max:\n",
    "           max = valor\n",
    "print(max)"
   ]
  },
  {
   "cell_type": "markdown",
   "metadata": {},
   "source": [
    "## Estruturas cíclicas: `while`\n",
    "\n",
    "1.  Use um ciclo `while` para percorrer o dicionário `populacao` e mostrar os concelhos que seriam precisos para juntar no mínimo 200 000 habitantes.\n",
    "1. Use um ciclo `while` para percorrer o dicionário `populacao` e mostrar os três primeiros concelhos que tenham o nome formado por mais do que uma palavra (como `\"Cabeceiras de Basto\"`, por exemplo."
   ]
  },
  {
   "cell_type": "code",
   "execution_count": 3,
   "metadata": {},
   "outputs": [
    {
     "name": "stdout",
     "output_type": "stream",
     "text": [
      "Barcelos\n"
     ]
    }
   ],
   "source": [
    "keys = list(populacao.keys())"
   ]
  },
  {
   "cell_type": "code",
   "execution_count": 11,
   "metadata": {},
   "outputs": [
    {
     "name": "stdout",
     "output_type": "stream",
     "text": [
      "['Amares', 'Barcelos', 'Braga', 'Cabeceiras de Basto', 'Celorico de Basto', 'Esposende', 'Fafe', 'Guimarães', 'Póvoa de Lanhoso', 'Terras de Bouro', 'Vieira do Minho', 'Vila Nova de Famalicão', 'Vila Verde', 'Vizela']\n",
      "19853 -> Amares\n",
      "124555 -> Barcelos\n",
      "176154 -> Braga\n",
      "320562\n"
     ]
    }
   ],
   "source": [
    "# Numero de elementos\n",
    "nrelem = len(populacao)\n",
    "\n",
    "#Nomes das cidades\n",
    "keys = list(populacao.keys())\n",
    "nomes = []\n",
    "print(keys)\n",
    "i=0\n",
    "soma=0\n",
    "# Percorrer enquanto i for menor do que o numero total de elementos do dictionary \n",
    "while i < nrelem: \n",
    "    if soma <= 200000:\n",
    "        soma+= populacao[keys[i]]\n",
    "        print(populacao[keys[i]],\"->\",(keys[i]))\n",
    "        \n",
    "    i += 1\n",
    "print(soma)"
   ]
  },
  {
   "cell_type": "code",
   "execution_count": null,
   "metadata": {},
   "outputs": [],
   "source": []
  }
 ],
 "metadata": {
  "kernelspec": {
   "display_name": "Python 3",
   "language": "python",
   "name": "python3"
  },
  "language_info": {
   "codemirror_mode": {
    "name": "ipython",
    "version": 3
   },
   "file_extension": ".py",
   "mimetype": "text/x-python",
   "name": "python",
   "nbconvert_exporter": "python",
   "pygments_lexer": "ipython3",
   "version": "3.7.6"
  }
 },
 "nbformat": 4,
 "nbformat_minor": 2
}

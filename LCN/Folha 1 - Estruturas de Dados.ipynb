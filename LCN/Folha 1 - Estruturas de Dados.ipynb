{
 "cells": [
  {
   "cell_type": "markdown",
   "metadata": {},
   "source": [
    "# Estruturas de Dados em Python\n",
    "\n",
    "Vamos começar por olhar para as estruturas de dados em Python que nos ajudam a representar coleções de dados.\n",
    "\n",
    "Faça estes execícios no Jupyter. Euquanto não estiver familizarizado com o Jupyter, consulta a [documentação disponível](https://jupyter-notebook.readthedocs.io/en/stable/notebook.html#introduction).\n",
    "\n",
    "## Listas\n",
    "\n",
    "```python\n",
    "concelhos = [ \"Amares\", \"Barcelos\", \"Braga\", \"Cabeceiras de Basto\", \"Celorico de Basto\", \"Esposende\", \"Fafe\", \"Guimarães\", \"Póvoa de Lanhoso\", \"Terras de Bouro\", \"Vieira do Minho\", \"Vila Nova de Famalicão\", \"Vila Verde\", \"Vizela\" ]\n",
    "```\n",
    "\n",
    "## Dicionários\n",
    "\n",
    "```python\n",
    "populacao = { \"Amares\": 19853, \"Barcelos\": 124555, \"Braga\": 176154, \"Cabeceiras de Basto\": 17635, \"Celorico de Basto\": 19767, \"Esposende\": 35552, \"Fafe\": 53600, \"Guimarães\": 162636, \"Póvoa de Lanhoso\": 24230, \"Terras de Bouro\": 7506, \"Vieira do Minho\": 14077, \"Vila Nova de Famalicão\": 134969, \"Vila Verde\": 49171, \"Vizela\": 24477 }\n",
    "```\n",
    "\n",
    "## Arrays\n",
    "\n",
    "Os arrays são indicados para armazenar uma coleção de elementos do mesmo tipo. \n",
    "As listas, com se viu, podem conter elementos de vários tipos diferentes. Os arrays, para serem mais eficientes, apenas permitem elementos do mesmo tipo (booleanos, inteiros, reais, etc).\n",
    "\n",
    "Os arrays podem ser criados com o módulo `array` ou com o módulo `numpy`. \n",
    "Ambas as implementações são semelhantes. Nestes exercícios, vamos usar sempre o módulo `numpy` para trabalhar com arrays.\n",
    "\n",
    "```python\n",
    "import numpy as np\n",
    "vel = np.array([ 50, 50, 70, 90, 120 ])\n",
    "```\n",
    "\n",
    "### Arrays com números aleatórios\n",
    "\n",
    "```python\n",
    "np.random.seed(0)\n",
    "notas = np.random.randint(100, size=10)\n",
    "```"
   ]
  },
  {
   "cell_type": "markdown",
   "metadata": {},
   "source": [
    "## Exercícios de listas\n",
    "\n",
    "Considere a lista `concelhos` definida anteriormente.\n",
    "\n",
    "1. Calcule o números de elementos da lista.\n",
    "\n",
    "2. Calcule o primeiro elemento da lista.\n",
    "\n",
    "3. A partir da lista inicial, crie um nova lista, com a apenas o primeiro e o último elemento da lista.\n",
    "\n",
    "4. Para ordenar listas, pode usar duas funções diferentes: `list.sort()` e `sorted()`. Escreva dois exemplos, com cada uma das funções, para mostrar as diferenças. Veja também com ose usa o parâmetro `reverse=True` nestas duas funções."
   ]
  },
  {
   "cell_type": "code",
   "execution_count": null,
   "metadata": {},
   "outputs": [],
   "source": [
    "concelhos = [ \"Amares\", \"Barcelos\", \"Braga\", \"Cabeceiras de Basto\", \"Celorico de Basto\", \"Esposende\", \"Fafe\", \"Guimarães\", \"Póvoa de Lanhoso\", \"Terras de Bouro\", \"Vieira do Minho\", \"Vila Nova de Famalicão\", \"Vila Verde\", \"Vizela\" ]"
   ]
  },
  {
   "cell_type": "code",
   "execution_count": null,
   "metadata": {},
   "outputs": [],
   "source": [
    "concelhos[0]"
   ]
  },
  {
   "cell_type": "code",
   "execution_count": null,
   "metadata": {},
   "outputs": [],
   "source": [
    "len(concelhos)"
   ]
  },
  {
   "cell_type": "code",
   "execution_count": null,
   "metadata": {},
   "outputs": [],
   "source": [
    "[concelhos[0], concelhos[-1]]"
   ]
  },
  {
   "cell_type": "code",
   "execution_count": null,
   "metadata": {},
   "outputs": [],
   "source": [
    "sorted(concelhos)"
   ]
  },
  {
   "cell_type": "code",
   "execution_count": null,
   "metadata": {},
   "outputs": [],
   "source": [
    "sorted(concelhos,reverse=True)"
   ]
  },
  {
   "cell_type": "code",
   "execution_count": null,
   "metadata": {},
   "outputs": [],
   "source": [
    "sorted(concelhos,key=len)"
   ]
  },
  {
   "cell_type": "code",
   "execution_count": null,
   "metadata": {},
   "outputs": [],
   "source": [
    "list.sort(concelhos,key=len)\n",
    "print(concelhos)"
   ]
  },
  {
   "cell_type": "markdown",
   "metadata": {},
   "source": [
    "## Exercícios com dicionários\n",
    "\n",
    "Considere o dicionário `populacao` atrás definido.\n",
    "\n",
    "1.  Escreva a expressão que nos dá a polulação de `Vizela`\n",
    "2.  Diga qual é o concelho mais populoso\n",
    "3.  Diga qual é a soma da população de todos os concelhos\n",
    "4.  Imprima os concelhos e respetiva população por ordem descrescente de população\n"
   ]
  },
  {
   "cell_type": "code",
   "execution_count": 2,
   "metadata": {},
   "outputs": [],
   "source": [
    "populacao = { \"Amares\": 19853, \"Barcelos\": 124555, \"Braga\": 176154, \"Cabeceiras de Basto\": 17635, \"Celorico de Basto\": 19767, \"Esposende\": 35552, \"Fafe\": 53600, \"Guimarães\": 162636, \"Póvoa de Lanhoso\": 24230, \"Terras de Bouro\": 7506, \"Vieira do Minho\": 14077, \"Vila Nova de Famalicão\": 134969, \"Vila Verde\": 49171, \"Vizela\": 24477 }"
   ]
  },
  {
   "cell_type": "code",
   "execution_count": 4,
   "metadata": {},
   "outputs": [
    {
     "data": {
      "text/plain": [
       "dict_keys(['Amares', 'Barcelos', 'Braga', 'Cabeceiras de Basto', 'Celorico de Basto', 'Esposende', 'Fafe', 'Guimarães', 'Póvoa de Lanhoso', 'Terras de Bouro', 'Vieira do Minho', 'Vila Nova de Famalicão', 'Vila Verde', 'Vizela'])"
      ]
     },
     "execution_count": 4,
     "metadata": {},
     "output_type": "execute_result"
    }
   ],
   "source": [
    "populacao.keys()"
   ]
  },
  {
   "cell_type": "code",
   "execution_count": 5,
   "metadata": {},
   "outputs": [
    {
     "data": {
      "text/plain": [
       "dict_values([19853, 124555, 176154, 17635, 19767, 35552, 53600, 162636, 24230, 7506, 14077, 134969, 49171, 24477])"
      ]
     },
     "execution_count": 5,
     "metadata": {},
     "output_type": "execute_result"
    }
   ],
   "source": [
    "populacao.values()"
   ]
  },
  {
   "cell_type": "code",
   "execution_count": 13,
   "metadata": {},
   "outputs": [
    {
     "data": {
      "text/plain": [
       "24477"
      ]
     },
     "execution_count": 13,
     "metadata": {},
     "output_type": "execute_result"
    }
   ],
   "source": [
    "populacao.get(\"Vizela\")"
   ]
  },
  {
   "cell_type": "code",
   "execution_count": 14,
   "metadata": {},
   "outputs": [
    {
     "data": {
      "text/plain": [
       "24477"
      ]
     },
     "execution_count": 14,
     "metadata": {},
     "output_type": "execute_result"
    }
   ],
   "source": [
    "populacao[\n",
    "    \"Vizela\"]"
   ]
  },
  {
   "cell_type": "code",
   "execution_count": 15,
   "metadata": {},
   "outputs": [
    {
     "data": {
      "text/plain": [
       "'Braga'"
      ]
     },
     "execution_count": 15,
     "metadata": {},
     "output_type": "execute_result"
    }
   ],
   "source": [
    "max(populacao,key=populacao.get)"
   ]
  },
  {
   "cell_type": "code",
   "execution_count": 16,
   "metadata": {},
   "outputs": [
    {
     "data": {
      "text/plain": [
       "176154"
      ]
     },
     "execution_count": 16,
     "metadata": {},
     "output_type": "execute_result"
    }
   ],
   "source": [
    "populacao[\"Braga\"]"
   ]
  },
  {
   "cell_type": "code",
   "execution_count": 17,
   "metadata": {},
   "outputs": [
    {
     "ename": "TypeError",
     "evalue": "'dict' object is not callable",
     "output_type": "error",
     "traceback": [
      "\u001b[1;31m---------------------------------------------------------------------------\u001b[0m",
      "\u001b[1;31mTypeError\u001b[0m                                 Traceback (most recent call last)",
      "\u001b[1;32m<ipython-input-17-f3b482a97739>\u001b[0m in \u001b[0;36m<module>\u001b[1;34m\u001b[0m\n\u001b[1;32m----> 1\u001b[1;33m \u001b[0mpopulacao\u001b[0m\u001b[1;33m(\u001b[0m\u001b[1;36m124555\u001b[0m\u001b[1;33m)\u001b[0m\u001b[1;33m\u001b[0m\u001b[1;33m\u001b[0m\u001b[0m\n\u001b[0m",
      "\u001b[1;31mTypeError\u001b[0m: 'dict' object is not callable"
     ]
    }
   ],
   "source": [
    "populacao.get()"
   ]
  },
  {
   "cell_type": "code",
   "execution_count": null,
   "metadata": {},
   "outputs": [],
   "source": [
    "sum(populacao.values())"
   ]
  },
  {
   "cell_type": "code",
   "execution_count": 3,
   "metadata": {},
   "outputs": [
    {
     "data": {
      "text/plain": [
       "[('Braga', 176154),\n",
       " ('Guimarães', 162636),\n",
       " ('Vila Nova de Famalicão', 134969),\n",
       " ('Barcelos', 124555),\n",
       " ('Fafe', 53600),\n",
       " ('Vila Verde', 49171),\n",
       " ('Esposende', 35552),\n",
       " ('Vizela', 24477),\n",
       " ('Póvoa de Lanhoso', 24230),\n",
       " ('Amares', 19853),\n",
       " ('Celorico de Basto', 19767),\n",
       " ('Cabeceiras de Basto', 17635),\n",
       " ('Vieira do Minho', 14077),\n",
       " ('Terras de Bouro', 7506)]"
      ]
     },
     "execution_count": 3,
     "metadata": {},
     "output_type": "execute_result"
    }
   ],
   "source": [
    "[ (chave, populacao[chave]) for chave in sorted(populacao,reverse=True,key=populacao.get) ]\n"
   ]
  },
  {
   "cell_type": "markdown",
   "metadata": {},
   "source": [
    "## Exercícios com arrays\n",
    "\n",
    "Considere os arrays atrás definidos.\n",
    "\n",
    "1.  Calcule a médias das velocidades registadas no vetor `vel`\n",
    "2.  Calcule a velocidade mínima no vetor `vel`\n",
    "3.  Crie um vetor com 10 elementos, com números aleatórios entre -10 e 10."
   ]
  },
  {
   "cell_type": "code",
   "execution_count": 2,
   "metadata": {},
   "outputs": [],
   "source": [
    "vel =([ 50, 50, 70, 90, 120])"
   ]
  },
  {
   "cell_type": "code",
   "execution_count": 3,
   "metadata": {},
   "outputs": [
    {
     "name": "stdout",
     "output_type": "stream",
     "text": [
      "[50, 50, 70, 90, 120]\n"
     ]
    }
   ],
   "source": [
    "print(vel)"
   ]
  },
  {
   "cell_type": "code",
   "execution_count": null,
   "metadata": {},
   "outputs": [],
   "source": [
    "mean(vel)"
   ]
  },
  {
   "cell_type": "code",
   "execution_count": 4,
   "metadata": {},
   "outputs": [],
   "source": [
    "vel = np.array([ 50, 50, 70, 90, 120 ])"
   ]
  },
  {
   "cell_type": "code",
   "execution_count": 6,
   "metadata": {},
   "outputs": [
    {
     "name": "stdout",
     "output_type": "stream",
     "text": [
      "[ 50  50  70  90 120]\n"
     ]
    }
   ],
   "source": [
    "import numpy as np\n",
    "vel = np.array([ 50, 50, 70, 90, 120 ])\n",
    "print(vel)"
   ]
  }
 ],
 "metadata": {
  "kernelspec": {
   "display_name": "Python 3",
   "language": "python",
   "name": "python3"
  },
  "language_info": {
   "codemirror_mode": {
    "name": "ipython",
    "version": 3
   },
   "file_extension": ".py",
   "mimetype": "text/x-python",
   "name": "python",
   "nbconvert_exporter": "python",
   "pygments_lexer": "ipython3",
   "version": "3.7.6"
  }
 },
 "nbformat": 4,
 "nbformat_minor": 2
}
